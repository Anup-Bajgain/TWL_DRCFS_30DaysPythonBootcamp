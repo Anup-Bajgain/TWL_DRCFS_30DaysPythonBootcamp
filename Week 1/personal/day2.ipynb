{
 "cells": [
  {
   "cell_type": "code",
   "execution_count": 2,
   "metadata": {},
   "outputs": [
    {
     "name": "stdout",
     "output_type": "stream",
     "text": [
      "you are not eligible.\n"
     ]
    }
   ],
   "source": [
    "age = input('enter your age.')\n",
    "user_age = int(age)\n",
    "\n",
    "if user_age >= 16:\n",
    "    print(\"you are eligible for lisence.\")\n",
    "\n",
    "else:\n",
    "    print(\"you are not eligible.\")"
   ]
  },
  {
   "cell_type": "code",
   "execution_count": 7,
   "metadata": {},
   "outputs": [],
   "source": [
    "username = input(\"username: \")\n",
    "password = input(\"password: \")\n",
    "if username == 'Anup' and password == '321654':\n",
    "    print(\"you are logged in.\")\n",
    "\n",
    "elif username == 'toran' and password == 'toran123':\n",
    "    print(\"wlc toran..\")\n",
    "\n",
    "else:\n",
    "    print(\"invalid user..\")"
   ]
  },
  {
   "cell_type": "code",
   "execution_count": 10,
   "metadata": {},
   "outputs": [
    {
     "name": "stdout",
     "output_type": "stream",
     "text": [
      " hello toran, hope you are doing great\n",
      " hello toran, hope you are doing great\n",
      " hello toran, hope you are doing great\n",
      " hello toran, hope you are doing great\n",
      " hello toran, hope you are doing great\n",
      " hello toran, hope you are doing great\n",
      " hello toran, hope you are doing great\n",
      " hello toran, hope you are doing great\n",
      " hello toran, hope you are doing great\n",
      " hello toran, hope you are doing great\n",
      "\n"
     ]
    }
   ],
   "source": [
    "print(\" hello toran, hope you are doing great\\n\" * 10)"
   ]
  },
  {
   "cell_type": "code",
   "execution_count": 18,
   "metadata": {},
   "outputs": [
    {
     "name": "stdout",
     "output_type": "stream",
     "text": [
      "5 is odd\n",
      "6 is even\n",
      "7 is odd\n",
      "8 is even\n",
      "9 is odd\n",
      "10 is even\n",
      "11 is odd\n",
      "12 is even\n",
      "13 is odd\n",
      "14 is even\n",
      "15 is odd\n",
      "16 is even\n",
      "17 is odd\n",
      "18 is even\n",
      "19 is odd\n",
      "20 is even\n",
      "21 is odd\n",
      "22 is even\n",
      "23 is odd\n",
      "24 is even\n",
      "25 is odd\n",
      "26 is even\n",
      "27 is odd\n",
      "28 is even\n",
      "29 is odd\n"
     ]
    }
   ],
   "source": [
    "for i in  range(5,30):\n",
    "    if i % 2 == 0:\n",
    "        print(str(i) + \" is even\")\n",
    "    else:\n",
    "        print(str(i) + \" is odd\")\n"
   ]
  },
  {
   "cell_type": "code",
   "execution_count": 21,
   "metadata": {},
   "outputs": [
    {
     "name": "stdout",
     "output_type": "stream",
     "text": [
      "1\n",
      "4\n",
      "7\n",
      "10\n",
      "13\n"
     ]
    }
   ],
   "source": [
    "for i in range(1, 14, 3):#1 is starting point , 14 is end point and 3 is interval between every successive numbers\n",
    "    print(i)"
   ]
  }
 ],
 "metadata": {
  "kernelspec": {
   "display_name": "Python 3.10.8 64-bit",
   "language": "python",
   "name": "python3"
  },
  "language_info": {
   "codemirror_mode": {
    "name": "ipython",
    "version": 3
   },
   "file_extension": ".py",
   "mimetype": "text/x-python",
   "name": "python",
   "nbconvert_exporter": "python",
   "pygments_lexer": "ipython3",
   "version": "3.10.8"
  },
  "orig_nbformat": 4,
  "vscode": {
   "interpreter": {
    "hash": "26de051ba29f2982a8de78e945f0abaf191376122a1563185a90213a26c5da77"
   }
  }
 },
 "nbformat": 4,
 "nbformat_minor": 2
}
