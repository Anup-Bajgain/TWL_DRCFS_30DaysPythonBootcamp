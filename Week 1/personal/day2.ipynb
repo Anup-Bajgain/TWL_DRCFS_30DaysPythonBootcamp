{
 "cells": [
  {
   "cell_type": "code",
   "execution_count": 2,
   "metadata": {},
   "outputs": [
    {
     "name": "stdout",
     "output_type": "stream",
     "text": [
      "you are not eligible.\n"
     ]
    }
   ],
   "source": [
    "age = input('enter your age.')\n",
    "user_age = int(age)\n",
    "\n",
    "if user_age >= 16:\n",
    "    print(\"you are eligible for lisence.\")\n",
    "\n",
    "else:\n",
    "    print(\"you are not eligible.\")"
   ]
  },
  {
   "cell_type": "code",
   "execution_count": 7,
   "metadata": {},
   "outputs": [],
   "source": [
    "username = input(\"username: \")\n",
    "password = input(\"password: \")\n",
    "if username == 'Anup' and password == '321654':\n",
    "    print(\"you are logged in.\")\n",
    "\n",
    "elif username == 'toran' and password == 'toran123':\n",
    "    print(\"wlc toran..\")"
   ]
  }
 ],
 "metadata": {
  "kernelspec": {
   "display_name": "Python 3.10.8 64-bit",
   "language": "python",
   "name": "python3"
  },
  "language_info": {
   "codemirror_mode": {
    "name": "ipython",
    "version": 3
   },
   "file_extension": ".py",
   "mimetype": "text/x-python",
   "name": "python",
   "nbconvert_exporter": "python",
   "pygments_lexer": "ipython3",
   "version": "3.10.8"
  },
  "orig_nbformat": 4,
  "vscode": {
   "interpreter": {
    "hash": "26de051ba29f2982a8de78e945f0abaf191376122a1563185a90213a26c5da77"
   }
  }
 },
 "nbformat": 4,
 "nbformat_minor": 2
}
