{
 "cells": [
  {
   "cell_type": "code",
   "execution_count": 3,
   "metadata": {},
   "outputs": [
    {
     "name": "stdout",
     "output_type": "stream",
     "text": [
      "abinash\n"
     ]
    }
   ],
   "source": [
    "#List and tuples\n",
    "\n",
    "sathi = ['TORAN','PRAKASH','madhu','abinash']\n",
    "print(sathi[3])"
   ]
  },
  {
   "cell_type": "code",
   "execution_count": 17,
   "metadata": {},
   "outputs": [
    {
     "name": "stdout",
     "output_type": "stream",
     "text": [
      "['toran', 'mitra', 'mitra', 'mitra', 'mitra', 'mitra', 'mitra', 'mitra', 'mitra', 'mitra', 'mitra', 'mitra', 'PRAKASH', 'madhu', 'abinash', 'mukesh', 'mukesh', 'mukesh', 'mukesh', 'mukesh', 'mukesh', 'mukesh', 'mukesh', 'mukesh', 'mukesh', 'mukesh', 'mukesh', 'mukesh', 'mukesh']\n"
     ]
    }
   ],
   "source": [
    "sathi.append(\"mukesh\")\n",
    "sathi[0]= 'mitra'\n",
    "sathi.insert(0,\"toran\")\n",
    "print(sathi)"
   ]
  },
  {
   "cell_type": "markdown",
   "metadata": {},
   "source": [
    "dictionary\n",
    "#key-value\n",
    "###ex.\n",
    "login system"
   ]
  },
  {
   "cell_type": "code",
   "execution_count": 2,
   "metadata": {},
   "outputs": [
    {
     "name": "stdout",
     "output_type": "stream",
     "text": [
      "{'anup': 'bajgain', 'sudip': 'niraula', 'prakash': 'poudel'}\n",
      "bajgain\n"
     ]
    }
   ],
   "source": [
    "#username - password dictionary\n",
    "\n",
    "print(user_name)\n",
    "#accessing value from dictionary\n",
    "print(user_name.get('anup'))"
   ]
  },
  {
   "cell_type": "code",
   "execution_count": 18,
   "metadata": {},
   "outputs": [
    {
     "name": "stdout",
     "output_type": "stream",
     "text": [
      "{'anup': 'bajgain', 'sudip': 'toran', 'prakash': 'poudel'}\n"
     ]
    }
   ],
   "source": [
    "#replacing the value using key\n",
    "user_name['sudip'] = user_name['toran']\n",
    "print(user_name)"
   ]
  },
  {
   "cell_type": "code",
   "execution_count": 24,
   "metadata": {},
   "outputs": [
    {
     "name": "stdout",
     "output_type": "stream",
     "text": [
      "user is invalid\n",
      "{'anup': 'bajgain', 'sudip': 'niraula', 'prakash': 'poudel', 'abinash': 'ghimire'}\n"
     ]
    }
   ],
   "source": [
    "#login system\n",
    "user_pass = {\n",
    "    'anup':'bajgain' , 'sudip':'niraula', 'prakash':'poudel'\n",
    "    }\n",
    "\n",
    "user_pass['abinash'] = 'ghimire'\n",
    "username = input('username: ')\n",
    "input_password = input('password: ')\n",
    "real_password = user_pass.get(username)\n",
    "if real_password is None:\n",
    "    print('user is invalid')\n",
    "elif real_password == input_password:\n",
    "    print('you are logged in.')\n",
    "else:\n",
    "    print('incorrect password')\n",
    "print(user_pass)"
   ]
  }
 ],
 "metadata": {
  "kernelspec": {
   "display_name": "Python 3.10.8 64-bit",
   "language": "python",
   "name": "python3"
  },
  "language_info": {
   "codemirror_mode": {
    "name": "ipython",
    "version": 3
   },
   "file_extension": ".py",
   "mimetype": "text/x-python",
   "name": "python",
   "nbconvert_exporter": "python",
   "pygments_lexer": "ipython3",
   "version": "3.10.8"
  },
  "orig_nbformat": 4,
  "vscode": {
   "interpreter": {
    "hash": "26de051ba29f2982a8de78e945f0abaf191376122a1563185a90213a26c5da77"
   }
  }
 },
 "nbformat": 4,
 "nbformat_minor": 2
}
